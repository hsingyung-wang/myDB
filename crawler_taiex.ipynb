{
 "cells": [
  {
   "cell_type": "code",
   "execution_count": 9,
   "metadata": {},
   "outputs": [],
   "source": [
    "import urllib3\n",
    "import requests\n",
    "from bs4 import BeautifulSoup\n",
    "import pandas as pd\n",
    "from datetime import datetime\n",
    "from io import StringIO\n",
    "import json\n",
    "from headers import *\n",
    "import controllers\n",
    "\n",
    "import importlib\n",
    "import models\n",
    "importlib.reload(controllers)\n",
    "importlib.reload(models)\n",
    "controller = controllers.FuturesDataController()\n",
    "model = models.FuturesDataModel()\n",
    "\n"
   ]
  },
  {
   "cell_type": "code",
   "execution_count": 3,
   "metadata": {},
   "outputs": [
    {
     "name": "stdout",
     "output_type": "stream",
     "text": [
      "爬取日期: 2024/09/09\n",
      "爬取成功\n",
      "轉換成功\n"
     ]
    },
    {
     "name": "stderr",
     "output_type": "stream",
     "text": [
      "/Users/hayden/Documents/pyDB/controllers.py:59: SettingWithCopyWarning: \n",
      "A value is trying to be set on a copy of a slice from a DataFrame.\n",
      "Try using .loc[row_indexer,col_indexer] = value instead\n",
      "\n",
      "See the caveats in the documentation: https://pandas.pydata.org/pandas-docs/stable/user_guide/indexing.html#returning-a-view-versus-a-copy\n",
      "  df_filter[col] = pd.to_numeric(df_filter[col].astype(str).str.replace(',', ''), errors='coerce')\n",
      "/Users/hayden/Documents/pyDB/controllers.py:59: SettingWithCopyWarning: \n",
      "A value is trying to be set on a copy of a slice from a DataFrame.\n",
      "Try using .loc[row_indexer,col_indexer] = value instead\n",
      "\n",
      "See the caveats in the documentation: https://pandas.pydata.org/pandas-docs/stable/user_guide/indexing.html#returning-a-view-versus-a-copy\n",
      "  df_filter[col] = pd.to_numeric(df_filter[col].astype(str).str.replace(',', ''), errors='coerce')\n",
      "/Users/hayden/Documents/pyDB/controllers.py:59: SettingWithCopyWarning: \n",
      "A value is trying to be set on a copy of a slice from a DataFrame.\n",
      "Try using .loc[row_indexer,col_indexer] = value instead\n",
      "\n",
      "See the caveats in the documentation: https://pandas.pydata.org/pandas-docs/stable/user_guide/indexing.html#returning-a-view-versus-a-copy\n",
      "  df_filter[col] = pd.to_numeric(df_filter[col].astype(str).str.replace(',', ''), errors='coerce')\n",
      "/Users/hayden/Documents/pyDB/controllers.py:59: SettingWithCopyWarning: \n",
      "A value is trying to be set on a copy of a slice from a DataFrame.\n",
      "Try using .loc[row_indexer,col_indexer] = value instead\n",
      "\n",
      "See the caveats in the documentation: https://pandas.pydata.org/pandas-docs/stable/user_guide/indexing.html#returning-a-view-versus-a-copy\n",
      "  df_filter[col] = pd.to_numeric(df_filter[col].astype(str).str.replace(',', ''), errors='coerce')\n",
      "/Users/hayden/Documents/pyDB/controllers.py:59: SettingWithCopyWarning: \n",
      "A value is trying to be set on a copy of a slice from a DataFrame.\n",
      "Try using .loc[row_indexer,col_indexer] = value instead\n",
      "\n",
      "See the caveats in the documentation: https://pandas.pydata.org/pandas-docs/stable/user_guide/indexing.html#returning-a-view-versus-a-copy\n",
      "  df_filter[col] = pd.to_numeric(df_filter[col].astype(str).str.replace(',', ''), errors='coerce')\n",
      "/Users/hayden/Documents/pyDB/controllers.py:59: SettingWithCopyWarning: \n",
      "A value is trying to be set on a copy of a slice from a DataFrame.\n",
      "Try using .loc[row_indexer,col_indexer] = value instead\n",
      "\n",
      "See the caveats in the documentation: https://pandas.pydata.org/pandas-docs/stable/user_guide/indexing.html#returning-a-view-versus-a-copy\n",
      "  df_filter[col] = pd.to_numeric(df_filter[col].astype(str).str.replace(',', ''), errors='coerce')\n",
      "/Users/hayden/Documents/pyDB/controllers.py:59: SettingWithCopyWarning: \n",
      "A value is trying to be set on a copy of a slice from a DataFrame.\n",
      "Try using .loc[row_indexer,col_indexer] = value instead\n",
      "\n",
      "See the caveats in the documentation: https://pandas.pydata.org/pandas-docs/stable/user_guide/indexing.html#returning-a-view-versus-a-copy\n",
      "  df_filter[col] = pd.to_numeric(df_filter[col].astype(str).str.replace(',', ''), errors='coerce')\n",
      "/Users/hayden/Documents/pyDB/controllers.py:59: SettingWithCopyWarning: \n",
      "A value is trying to be set on a copy of a slice from a DataFrame.\n",
      "Try using .loc[row_indexer,col_indexer] = value instead\n",
      "\n",
      "See the caveats in the documentation: https://pandas.pydata.org/pandas-docs/stable/user_guide/indexing.html#returning-a-view-versus-a-copy\n",
      "  df_filter[col] = pd.to_numeric(df_filter[col].astype(str).str.replace(',', ''), errors='coerce')\n",
      "/Users/hayden/Documents/pyDB/controllers.py:59: SettingWithCopyWarning: \n",
      "A value is trying to be set on a copy of a slice from a DataFrame.\n",
      "Try using .loc[row_indexer,col_indexer] = value instead\n",
      "\n",
      "See the caveats in the documentation: https://pandas.pydata.org/pandas-docs/stable/user_guide/indexing.html#returning-a-view-versus-a-copy\n",
      "  df_filter[col] = pd.to_numeric(df_filter[col].astype(str).str.replace(',', ''), errors='coerce')\n",
      "/Users/hayden/Documents/pyDB/controllers.py:59: SettingWithCopyWarning: \n",
      "A value is trying to be set on a copy of a slice from a DataFrame.\n",
      "Try using .loc[row_indexer,col_indexer] = value instead\n",
      "\n",
      "See the caveats in the documentation: https://pandas.pydata.org/pandas-docs/stable/user_guide/indexing.html#returning-a-view-versus-a-copy\n",
      "  df_filter[col] = pd.to_numeric(df_filter[col].astype(str).str.replace(',', ''), errors='coerce')\n",
      "/Users/hayden/Documents/pyDB/controllers.py:59: SettingWithCopyWarning: \n",
      "A value is trying to be set on a copy of a slice from a DataFrame.\n",
      "Try using .loc[row_indexer,col_indexer] = value instead\n",
      "\n",
      "See the caveats in the documentation: https://pandas.pydata.org/pandas-docs/stable/user_guide/indexing.html#returning-a-view-versus-a-copy\n",
      "  df_filter[col] = pd.to_numeric(df_filter[col].astype(str).str.replace(',', ''), errors='coerce')\n",
      "/Users/hayden/Documents/pyDB/controllers.py:59: SettingWithCopyWarning: \n",
      "A value is trying to be set on a copy of a slice from a DataFrame.\n",
      "Try using .loc[row_indexer,col_indexer] = value instead\n",
      "\n",
      "See the caveats in the documentation: https://pandas.pydata.org/pandas-docs/stable/user_guide/indexing.html#returning-a-view-versus-a-copy\n",
      "  df_filter[col] = pd.to_numeric(df_filter[col].astype(str).str.replace(',', ''), errors='coerce')\n"
     ]
    }
   ],
   "source": [
    "controller.crawler_taifex_data(\"2024/09/08\")"
   ]
  },
  {
   "cell_type": "code",
   "execution_count": 4,
   "metadata": {},
   "outputs": [
    {
     "data": {
      "text/html": [
       "<div>\n",
       "<style scoped>\n",
       "    .dataframe tbody tr th:only-of-type {\n",
       "        vertical-align: middle;\n",
       "    }\n",
       "\n",
       "    .dataframe tbody tr th {\n",
       "        vertical-align: top;\n",
       "    }\n",
       "\n",
       "    .dataframe thead th {\n",
       "        text-align: right;\n",
       "    }\n",
       "</style>\n",
       "<table border=\"1\" class=\"dataframe\">\n",
       "  <thead>\n",
       "    <tr style=\"text-align: right;\">\n",
       "      <th></th>\n",
       "      <th>商品名稱</th>\n",
       "      <th>身份別</th>\n",
       "      <th>多方交易口數</th>\n",
       "      <th>多方交易金額</th>\n",
       "      <th>空方交易口數</th>\n",
       "      <th>空方交易金額</th>\n",
       "      <th>交易淨口數</th>\n",
       "      <th>交易淨金額</th>\n",
       "      <th>多方未平倉口數</th>\n",
       "      <th>多方未平倉金額</th>\n",
       "      <th>空方未平倉口數</th>\n",
       "      <th>空方未平倉金額</th>\n",
       "      <th>未平倉淨口數</th>\n",
       "      <th>未平倉淨金額</th>\n",
       "    </tr>\n",
       "  </thead>\n",
       "  <tbody>\n",
       "    <tr>\n",
       "      <th>0</th>\n",
       "      <td>臺股期貨</td>\n",
       "      <td>自營商</td>\n",
       "      <td>13246</td>\n",
       "      <td>55601062</td>\n",
       "      <td>11754</td>\n",
       "      <td>49368888</td>\n",
       "      <td>1492</td>\n",
       "      <td>6232174</td>\n",
       "      <td>5568</td>\n",
       "      <td>23477208</td>\n",
       "      <td>4400</td>\n",
       "      <td>18552000</td>\n",
       "      <td>1168</td>\n",
       "      <td>4925208</td>\n",
       "    </tr>\n",
       "    <tr>\n",
       "      <th>1</th>\n",
       "      <td>臺股期貨</td>\n",
       "      <td>投信</td>\n",
       "      <td>492</td>\n",
       "      <td>2075569</td>\n",
       "      <td>328</td>\n",
       "      <td>1384444</td>\n",
       "      <td>164</td>\n",
       "      <td>691125</td>\n",
       "      <td>32120</td>\n",
       "      <td>135437089</td>\n",
       "      <td>8815</td>\n",
       "      <td>37169321</td>\n",
       "      <td>23305</td>\n",
       "      <td>98267768</td>\n",
       "    </tr>\n",
       "    <tr>\n",
       "      <th>2</th>\n",
       "      <td>臺股期貨</td>\n",
       "      <td>外資</td>\n",
       "      <td>117414</td>\n",
       "      <td>492754797</td>\n",
       "      <td>117922</td>\n",
       "      <td>495218445</td>\n",
       "      <td>-508</td>\n",
       "      <td>-2463649</td>\n",
       "      <td>18504</td>\n",
       "      <td>78022810</td>\n",
       "      <td>46601</td>\n",
       "      <td>196495997</td>\n",
       "      <td>-28097</td>\n",
       "      <td>-118473187</td>\n",
       "    </tr>\n",
       "    <tr>\n",
       "      <th>9</th>\n",
       "      <td>小型臺指期貨</td>\n",
       "      <td>自營商</td>\n",
       "      <td>22117</td>\n",
       "      <td>23207247</td>\n",
       "      <td>22912</td>\n",
       "      <td>24067279</td>\n",
       "      <td>-795</td>\n",
       "      <td>-860032</td>\n",
       "      <td>2663</td>\n",
       "      <td>2807641</td>\n",
       "      <td>12679</td>\n",
       "      <td>13365228</td>\n",
       "      <td>-10016</td>\n",
       "      <td>-10557587</td>\n",
       "    </tr>\n",
       "    <tr>\n",
       "      <th>10</th>\n",
       "      <td>小型臺指期貨</td>\n",
       "      <td>投信</td>\n",
       "      <td>4</td>\n",
       "      <td>4190</td>\n",
       "      <td>0</td>\n",
       "      <td>0</td>\n",
       "      <td>4</td>\n",
       "      <td>4190</td>\n",
       "      <td>149</td>\n",
       "      <td>157068</td>\n",
       "      <td>17</td>\n",
       "      <td>17921</td>\n",
       "      <td>132</td>\n",
       "      <td>139147</td>\n",
       "    </tr>\n",
       "    <tr>\n",
       "      <th>11</th>\n",
       "      <td>小型臺指期貨</td>\n",
       "      <td>外資</td>\n",
       "      <td>214661</td>\n",
       "      <td>225365024</td>\n",
       "      <td>213317</td>\n",
       "      <td>224118975</td>\n",
       "      <td>1344</td>\n",
       "      <td>1246049</td>\n",
       "      <td>5880</td>\n",
       "      <td>6198384</td>\n",
       "      <td>2985</td>\n",
       "      <td>3146684</td>\n",
       "      <td>2895</td>\n",
       "      <td>3051700</td>\n",
       "    </tr>\n",
       "    <tr>\n",
       "      <th>12</th>\n",
       "      <td>微型臺指期貨</td>\n",
       "      <td>自營商</td>\n",
       "      <td>24126</td>\n",
       "      <td>5067995</td>\n",
       "      <td>20690</td>\n",
       "      <td>4355071</td>\n",
       "      <td>3436</td>\n",
       "      <td>712924</td>\n",
       "      <td>4078</td>\n",
       "      <td>859745</td>\n",
       "      <td>8181</td>\n",
       "      <td>1724672</td>\n",
       "      <td>-4103</td>\n",
       "      <td>-864927</td>\n",
       "    </tr>\n",
       "    <tr>\n",
       "      <th>13</th>\n",
       "      <td>微型臺指期貨</td>\n",
       "      <td>投信</td>\n",
       "      <td>0</td>\n",
       "      <td>0</td>\n",
       "      <td>0</td>\n",
       "      <td>0</td>\n",
       "      <td>0</td>\n",
       "      <td>0</td>\n",
       "      <td>0</td>\n",
       "      <td>0</td>\n",
       "      <td>0</td>\n",
       "      <td>0</td>\n",
       "      <td>0</td>\n",
       "      <td>0</td>\n",
       "    </tr>\n",
       "    <tr>\n",
       "      <th>14</th>\n",
       "      <td>微型臺指期貨</td>\n",
       "      <td>外資</td>\n",
       "      <td>85837</td>\n",
       "      <td>18026205</td>\n",
       "      <td>89560</td>\n",
       "      <td>18821540</td>\n",
       "      <td>-3723</td>\n",
       "      <td>-795335</td>\n",
       "      <td>22</td>\n",
       "      <td>4638</td>\n",
       "      <td>10540</td>\n",
       "      <td>2222147</td>\n",
       "      <td>-10518</td>\n",
       "      <td>-2217509</td>\n",
       "    </tr>\n",
       "  </tbody>\n",
       "</table>\n",
       "</div>"
      ],
      "text/plain": [
       "      商品名稱  身份別  多方交易口數     多方交易金額  空方交易口數     空方交易金額  交易淨口數    交易淨金額  \\\n",
       "0     臺股期貨  自營商   13246   55601062   11754   49368888   1492  6232174   \n",
       "1     臺股期貨   投信     492    2075569     328    1384444    164   691125   \n",
       "2     臺股期貨   外資  117414  492754797  117922  495218445   -508 -2463649   \n",
       "9   小型臺指期貨  自營商   22117   23207247   22912   24067279   -795  -860032   \n",
       "10  小型臺指期貨   投信       4       4190       0          0      4     4190   \n",
       "11  小型臺指期貨   外資  214661  225365024  213317  224118975   1344  1246049   \n",
       "12  微型臺指期貨  自營商   24126    5067995   20690    4355071   3436   712924   \n",
       "13  微型臺指期貨   投信       0          0       0          0      0        0   \n",
       "14  微型臺指期貨   外資   85837   18026205   89560   18821540  -3723  -795335   \n",
       "\n",
       "    多方未平倉口數    多方未平倉金額  空方未平倉口數    空方未平倉金額  未平倉淨口數     未平倉淨金額  \n",
       "0      5568   23477208     4400   18552000    1168    4925208  \n",
       "1     32120  135437089     8815   37169321   23305   98267768  \n",
       "2     18504   78022810    46601  196495997  -28097 -118473187  \n",
       "9      2663    2807641    12679   13365228  -10016  -10557587  \n",
       "10      149     157068       17      17921     132     139147  \n",
       "11     5880    6198384     2985    3146684    2895    3051700  \n",
       "12     4078     859745     8181    1724672   -4103    -864927  \n",
       "13        0          0        0          0       0          0  \n",
       "14       22       4638    10540    2222147  -10518   -2217509  "
      ]
     },
     "execution_count": 4,
     "metadata": {},
     "output_type": "execute_result"
    }
   ],
   "source": [
    "df"
   ]
  },
  {
   "cell_type": "code",
   "execution_count": 5,
   "metadata": {},
   "outputs": [],
   "source": [
    "date = \"2024/09/09\"\n",
    "data = {\n",
    "            \"date\":datetime.strptime(date,\"%Y/%m/%d\"),\n",
    "            \"期貨契約\":[]\n",
    "        }\n",
    "for _, row in df.iterrows():\n",
    "    contract = {\n",
    "        \"商品名稱\": row['商品名稱'],\n",
    "        \"身份別\": row['身份別'],\n",
    "        \"多方交易口數\": int(row['多方交易口數']),\n",
    "        \"多方交易金額\": int(row['多方交易金額']),\n",
    "        \"空方交易口數\": int(row['空方交易口數']),\n",
    "        \"空方交易金額\": int(row['空方交易金額']),\n",
    "        \"交易淨口數\": int(row['交易淨口數']),\n",
    "        \"交易淨金額\": int(row['交易淨金額']),\n",
    "        \"多方未平倉口數\": int(row['多方未平倉口數']),\n",
    "        \"多方未平倉金額\": int(row['多方未平倉金額']),\n",
    "        \"空方未平倉口數\": int(row['空方未平倉口數']),\n",
    "        \"空方未平倉金額\": int(row['空方未平倉金額']),\n",
    "        \"未平倉淨口數\": int(row['未平倉淨口數']),\n",
    "        \"未平倉淨金額\": int(row['未平倉淨金額'])\n",
    "    }\n",
    "    data[\"期貨契約\"].append(contract)\n",
    "    "
   ]
  },
  {
   "cell_type": "code",
   "execution_count": 6,
   "metadata": {},
   "outputs": [
    {
     "name": "stdout",
     "output_type": "stream",
     "text": [
      "{'date': datetime.datetime(2024, 9, 9, 0, 0), '期貨契約': [{'商品名稱': '臺股期貨', '身份別': '自營商', '多方交易口數': 13246, '多方交易金額': 55601062, '空方交易口數': 11754, '空方交易金額': 49368888, '交易淨口數': 1492, '交易淨金額': 6232174, '多方未平倉口數': 5568, '多方未平倉金額': 23477208, '空方未平倉口數': 4400, '空方未平倉金額': 18552000, '未平倉淨口數': 1168, '未平倉淨金額': 4925208}, {'商品名稱': '臺股期貨', '身份別': '投信', '多方交易口數': 492, '多方交易金額': 2075569, '空方交易口數': 328, '空方交易金額': 1384444, '交易淨口數': 164, '交易淨金額': 691125, '多方未平倉口數': 32120, '多方未平倉金額': 135437089, '空方未平倉口數': 8815, '空方未平倉金額': 37169321, '未平倉淨口數': 23305, '未平倉淨金額': 98267768}, {'商品名稱': '臺股期貨', '身份別': '外資', '多方交易口數': 117414, '多方交易金額': 492754797, '空方交易口數': 117922, '空方交易金額': 495218445, '交易淨口數': -508, '交易淨金額': -2463649, '多方未平倉口數': 18504, '多方未平倉金額': 78022810, '空方未平倉口數': 46601, '空方未平倉金額': 196495997, '未平倉淨口數': -28097, '未平倉淨金額': -118473187}, {'商品名稱': '小型臺指期貨', '身份別': '自營商', '多方交易口數': 22117, '多方交易金額': 23207247, '空方交易口數': 22912, '空方交易金額': 24067279, '交易淨口數': -795, '交易淨金額': -860032, '多方未平倉口數': 2663, '多方未平倉金額': 2807641, '空方未平倉口數': 12679, '空方未平倉金額': 13365228, '未平倉淨口數': -10016, '未平倉淨金額': -10557587}, {'商品名稱': '小型臺指期貨', '身份別': '投信', '多方交易口數': 4, '多方交易金額': 4190, '空方交易口數': 0, '空方交易金額': 0, '交易淨口數': 4, '交易淨金額': 4190, '多方未平倉口數': 149, '多方未平倉金額': 157068, '空方未平倉口數': 17, '空方未平倉金額': 17921, '未平倉淨口數': 132, '未平倉淨金額': 139147}, {'商品名稱': '小型臺指期貨', '身份別': '外資', '多方交易口數': 214661, '多方交易金額': 225365024, '空方交易口數': 213317, '空方交易金額': 224118975, '交易淨口數': 1344, '交易淨金額': 1246049, '多方未平倉口數': 5880, '多方未平倉金額': 6198384, '空方未平倉口數': 2985, '空方未平倉金額': 3146684, '未平倉淨口數': 2895, '未平倉淨金額': 3051700}, {'商品名稱': '微型臺指期貨', '身份別': '自營商', '多方交易口數': 24126, '多方交易金額': 5067995, '空方交易口數': 20690, '空方交易金額': 4355071, '交易淨口數': 3436, '交易淨金額': 712924, '多方未平倉口數': 4078, '多方未平倉金額': 859745, '空方未平倉口數': 8181, '空方未平倉金額': 1724672, '未平倉淨口數': -4103, '未平倉淨金額': -864927}, {'商品名稱': '微型臺指期貨', '身份別': '投信', '多方交易口數': 0, '多方交易金額': 0, '空方交易口數': 0, '空方交易金額': 0, '交易淨口數': 0, '交易淨金額': 0, '多方未平倉口數': 0, '多方未平倉金額': 0, '空方未平倉口數': 0, '空方未平倉金額': 0, '未平倉淨口數': 0, '未平倉淨金額': 0}, {'商品名稱': '微型臺指期貨', '身份別': '外資', '多方交易口數': 85837, '多方交易金額': 18026205, '空方交易口數': 89560, '空方交易金額': 18821540, '交易淨口數': -3723, '交易淨金額': -795335, '多方未平倉口數': 22, '多方未平倉金額': 4638, '空方未平倉口數': 10540, '空方未平倉金額': 2222147, '未平倉淨口數': -10518, '未平倉淨金額': -2217509}]}\n"
     ]
    }
   ],
   "source": [
    "print(data)"
   ]
  },
  {
   "cell_type": "code",
   "execution_count": 10,
   "metadata": {},
   "outputs": [
    {
     "name": "stdout",
     "output_type": "stream",
     "text": [
      "成功連接到 MongoDB!\n"
     ]
    }
   ],
   "source": [
    "client = model.connect_mongo()"
   ]
  },
  {
   "cell_type": "code",
   "execution_count": 11,
   "metadata": {},
   "outputs": [],
   "source": [
    "db = client[\"findata\"]\n",
    "collection = db[\"txf_oi\"]\n"
   ]
  },
  {
   "cell_type": "code",
   "execution_count": 12,
   "metadata": {},
   "outputs": [],
   "source": [
    "existing_data = collection.find_one({'date':data['date']})"
   ]
  },
  {
   "cell_type": "code",
   "execution_count": 15,
   "metadata": {},
   "outputs": [
    {
     "name": "stdout",
     "output_type": "stream",
     "text": [
      "None\n",
      "{'date': datetime.datetime(2024, 9, 9, 0, 0), '期貨契約': [{'商品名稱': '臺股期貨', '身份別': '自營商', '多方交易口數': 13246, '多方交易金額': 55601062, '空方交易口數': 11754, '空方交易金額': 49368888, '交易淨口數': 1492, '交易淨金額': 6232174, '多方未平倉口數': 5568, '多方未平倉金額': 23477208, '空方未平倉口數': 4400, '空方未平倉金額': 18552000, '未平倉淨口數': 1168, '未平倉淨金額': 4925208}, {'商品名稱': '臺股期貨', '身份別': '投信', '多方交易口數': 492, '多方交易金額': 2075569, '空方交易口數': 328, '空方交易金額': 1384444, '交易淨口數': 164, '交易淨金額': 691125, '多方未平倉口數': 32120, '多方未平倉金額': 135437089, '空方未平倉口數': 8815, '空方未平倉金額': 37169321, '未平倉淨口數': 23305, '未平倉淨金額': 98267768}, {'商品名稱': '臺股期貨', '身份別': '外資', '多方交易口數': 117414, '多方交易金額': 492754797, '空方交易口數': 117922, '空方交易金額': 495218445, '交易淨口數': -508, '交易淨金額': -2463649, '多方未平倉口數': 18504, '多方未平倉金額': 78022810, '空方未平倉口數': 46601, '空方未平倉金額': 196495997, '未平倉淨口數': -28097, '未平倉淨金額': -118473187}, {'商品名稱': '小型臺指期貨', '身份別': '自營商', '多方交易口數': 22117, '多方交易金額': 23207247, '空方交易口數': 22912, '空方交易金額': 24067279, '交易淨口數': -795, '交易淨金額': -860032, '多方未平倉口數': 2663, '多方未平倉金額': 2807641, '空方未平倉口數': 12679, '空方未平倉金額': 13365228, '未平倉淨口數': -10016, '未平倉淨金額': -10557587}, {'商品名稱': '小型臺指期貨', '身份別': '投信', '多方交易口數': 4, '多方交易金額': 4190, '空方交易口數': 0, '空方交易金額': 0, '交易淨口數': 4, '交易淨金額': 4190, '多方未平倉口數': 149, '多方未平倉金額': 157068, '空方未平倉口數': 17, '空方未平倉金額': 17921, '未平倉淨口數': 132, '未平倉淨金額': 139147}, {'商品名稱': '小型臺指期貨', '身份別': '外資', '多方交易口數': 214661, '多方交易金額': 225365024, '空方交易口數': 213317, '空方交易金額': 224118975, '交易淨口數': 1344, '交易淨金額': 1246049, '多方未平倉口數': 5880, '多方未平倉金額': 6198384, '空方未平倉口數': 2985, '空方未平倉金額': 3146684, '未平倉淨口數': 2895, '未平倉淨金額': 3051700}, {'商品名稱': '微型臺指期貨', '身份別': '自營商', '多方交易口數': 24126, '多方交易金額': 5067995, '空方交易口數': 20690, '空方交易金額': 4355071, '交易淨口數': 3436, '交易淨金額': 712924, '多方未平倉口數': 4078, '多方未平倉金額': 859745, '空方未平倉口數': 8181, '空方未平倉金額': 1724672, '未平倉淨口數': -4103, '未平倉淨金額': -864927}, {'商品名稱': '微型臺指期貨', '身份別': '投信', '多方交易口數': 0, '多方交易金額': 0, '空方交易口數': 0, '空方交易金額': 0, '交易淨口數': 0, '交易淨金額': 0, '多方未平倉口數': 0, '多方未平倉金額': 0, '空方未平倉口數': 0, '空方未平倉金額': 0, '未平倉淨口數': 0, '未平倉淨金額': 0}, {'商品名稱': '微型臺指期貨', '身份別': '外資', '多方交易口數': 85837, '多方交易金額': 18026205, '空方交易口數': 89560, '空方交易金額': 18821540, '交易淨口數': -3723, '交易淨金額': -795335, '多方未平倉口數': 22, '多方未平倉金額': 4638, '空方未平倉口數': 10540, '空方未平倉金額': 2222147, '未平倉淨口數': -10518, '未平倉淨金額': -2217509}]}\n"
     ]
    }
   ],
   "source": [
    "print(existing_data)\n",
    "print(data)"
   ]
  },
  {
   "cell_type": "code",
   "execution_count": 17,
   "metadata": {},
   "outputs": [],
   "source": [
    "result = collection.insert_one(data)"
   ]
  },
  {
   "cell_type": "code",
   "execution_count": null,
   "metadata": {},
   "outputs": [],
   "source": [
    "df = controller.crawler_twse_total_return(\"20240909\")\n",
    "df"
   ]
  },
  {
   "cell_type": "code",
   "execution_count": null,
   "metadata": {},
   "outputs": [],
   "source": [
    "df2 = controller.crawler_twse_data(\"20240909\")\n",
    "df2"
   ]
  },
  {
   "cell_type": "code",
   "execution_count": 2,
   "metadata": {},
   "outputs": [],
   "source": [
    "params ={\n",
    "    'response':'json',\n",
    "    'date':\"20240810\"\n",
    "}\n",
    "rsp = requests.get(\"https://www.twse.com.tw/rwd/zh/TAIEX/MFI94U\",data=params,headers=TWSE_DOWN)"
   ]
  },
  {
   "cell_type": "code",
   "execution_count": null,
   "metadata": {},
   "outputs": [],
   "source": [
    "d2 = json.loads(rsp.text)\n",
    "d2"
   ]
  },
  {
   "cell_type": "code",
   "execution_count": null,
   "metadata": {},
   "outputs": [],
   "source": [
    "df2 = pd.DataFrame(d2['data'],columns=['date','tri_close'])\n",
    "df2"
   ]
  },
  {
   "cell_type": "code",
   "execution_count": null,
   "metadata": {},
   "outputs": [],
   "source": [
    "df2.iloc[:,1:] = df2.iloc[:,1:].apply(lambda x: x.str.replace(',','').astype(float), axis=1)\n",
    "df2"
   ]
  },
  {
   "cell_type": "code",
   "execution_count": null,
   "metadata": {},
   "outputs": [],
   "source": [
    "df2[['year','month','day']] = df2['date'].str.split('/',expand=True)\n",
    "df2['year'] = df2['year'].astype(int)+1911\n",
    "df2['date'] = df2['year'].astype(str)+'-'+df2['month'].str.zfill(2) + \"-\" + df2['day'].str.zfill(2)\n",
    "df2['date'] = pd.to_datetime(df2['date'])\n",
    "df2"
   ]
  },
  {
   "cell_type": "code",
   "execution_count": null,
   "metadata": {},
   "outputs": [],
   "source": [
    "#tdf = controller.crawler_twse_data(\"20240801\")\n",
    "xdf = controller.crawler_twse_data(\"20240801\")"
   ]
  },
  {
   "cell_type": "code",
   "execution_count": null,
   "metadata": {},
   "outputs": [],
   "source": [
    "xdf"
   ]
  },
  {
   "cell_type": "code",
   "execution_count": null,
   "metadata": {},
   "outputs": [],
   "source": [
    "date = \"20240905\"\n",
    "url = \"https://www.twse.com.tw/indicesReport/MI_5MINS_HIST\"\n",
    "params = {\n",
    "    'response':'json',\n",
    "    'date':f'{date}'\n",
    "}\n",
    "\n",
    "response = requests.get(url,data=params,headers=TWSE_DOWN)\n"
   ]
  },
  {
   "cell_type": "code",
   "execution_count": null,
   "metadata": {},
   "outputs": [],
   "source": [
    "response.text"
   ]
  },
  {
   "cell_type": "code",
   "execution_count": null,
   "metadata": {},
   "outputs": [],
   "source": [
    "data = json.loads(response.text)\n",
    "data"
   ]
  },
  {
   "cell_type": "code",
   "execution_count": null,
   "metadata": {},
   "outputs": [],
   "source": [
    "df = pd.DataFrame(data['data'],columns=['date','open','high','low','close'])\n",
    "df"
   ]
  },
  {
   "cell_type": "code",
   "execution_count": null,
   "metadata": {},
   "outputs": [],
   "source": [
    "df.iloc[:, 1:] = df.iloc[:, 1:].apply(lambda x: x.str.replace(',', '').astype(float), axis=1)"
   ]
  },
  {
   "cell_type": "code",
   "execution_count": null,
   "metadata": {},
   "outputs": [],
   "source": [
    "df"
   ]
  },
  {
   "cell_type": "code",
   "execution_count": null,
   "metadata": {},
   "outputs": [],
   "source": [
    "df[['year', 'month', 'day']] = df['date'].str.split('/', expand=True)\n",
    "df['year'] = df['year'].astype(int) + 1911\n",
    "df['date'] = df['year'].astype(str) + '-' + df['month'].str.zfill(2) + '-' + df['day'].str.zfill(2)\n",
    "df"
   ]
  },
  {
   "cell_type": "code",
   "execution_count": null,
   "metadata": {},
   "outputs": [],
   "source": [
    "df[['year','Month', 'Day']] = df['Date'].str.split(\"/\",expand=True,)\n"
   ]
  },
  {
   "cell_type": "code",
   "execution_count": null,
   "metadata": {},
   "outputs": [],
   "source": [
    "df"
   ]
  },
  {
   "cell_type": "code",
   "execution_count": null,
   "metadata": {},
   "outputs": [],
   "source": [
    "df['Year'] = df['Year'].astype(int) + 1911\n"
   ]
  },
  {
   "cell_type": "code",
   "execution_count": null,
   "metadata": {},
   "outputs": [],
   "source": [
    "df"
   ]
  },
  {
   "cell_type": "code",
   "execution_count": null,
   "metadata": {},
   "outputs": [],
   "source": [
    "df['Date']  = (pd.to_datetime(df['Year'].astype(str) + '/' +\n",
    "df['Month'].astype(str) + '/' +\n",
    "df['Day'].astype(str)))"
   ]
  },
  {
   "cell_type": "code",
   "execution_count": null,
   "metadata": {},
   "outputs": [],
   "source": [
    "df"
   ]
  },
  {
   "cell_type": "code",
   "execution_count": null,
   "metadata": {},
   "outputs": [],
   "source": [
    "df = df.iloc[:, :-3]\n",
    "\n",
    "\n",
    "\n",
    "\n",
    "\n"
   ]
  },
  {
   "cell_type": "code",
   "execution_count": null,
   "metadata": {},
   "outputs": [],
   "source": [
    "df"
   ]
  },
  {
   "cell_type": "code",
   "execution_count": null,
   "metadata": {},
   "outputs": [],
   "source": []
  }
 ],
 "metadata": {
  "kernelspec": {
   "display_name": "Python 3",
   "language": "python",
   "name": "python3"
  },
  "language_info": {
   "codemirror_mode": {
    "name": "ipython",
    "version": 3
   },
   "file_extension": ".py",
   "mimetype": "text/x-python",
   "name": "python",
   "nbconvert_exporter": "python",
   "pygments_lexer": "ipython3",
   "version": "3.11.7"
  }
 },
 "nbformat": 4,
 "nbformat_minor": 2
}
