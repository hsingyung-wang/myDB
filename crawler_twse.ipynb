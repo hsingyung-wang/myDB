{
 "cells": [
  {
   "cell_type": "code",
   "execution_count": 1,
   "metadata": {},
   "outputs": [],
   "source": [
    "import urllib3\n",
    "import requests\n",
    "from bs4 import BeautifulSoup\n",
    "import pandas as pd\n",
    "from datetime import datetime\n",
    "from io import StringIO\n",
    "import json\n",
    "from headers import *\n",
    "import controllers\n",
    "\n",
    "import importlib\n",
    "importlib.reload(controllers)\n",
    "controller = controllers.FuturesDataController()"
   ]
  },
  {
   "cell_type": "code",
   "execution_count": 2,
   "metadata": {},
   "outputs": [
    {
     "data": {
      "text/html": [
       "<div>\n",
       "<style scoped>\n",
       "    .dataframe tbody tr th:only-of-type {\n",
       "        vertical-align: middle;\n",
       "    }\n",
       "\n",
       "    .dataframe tbody tr th {\n",
       "        vertical-align: top;\n",
       "    }\n",
       "\n",
       "    .dataframe thead th {\n",
       "        text-align: right;\n",
       "    }\n",
       "</style>\n",
       "<table border=\"1\" class=\"dataframe\">\n",
       "  <thead>\n",
       "    <tr style=\"text-align: right;\">\n",
       "      <th></th>\n",
       "      <th>date</th>\n",
       "      <th>tri_close</th>\n",
       "    </tr>\n",
       "  </thead>\n",
       "  <tbody>\n",
       "    <tr>\n",
       "      <th>0</th>\n",
       "      <td>2024-09-02</td>\n",
       "      <td>48960.74</td>\n",
       "    </tr>\n",
       "    <tr>\n",
       "      <th>1</th>\n",
       "      <td>2024-09-03</td>\n",
       "      <td>48647.56</td>\n",
       "    </tr>\n",
       "    <tr>\n",
       "      <th>2</th>\n",
       "      <td>2024-09-04</td>\n",
       "      <td>46447.84</td>\n",
       "    </tr>\n",
       "    <tr>\n",
       "      <th>3</th>\n",
       "      <td>2024-09-05</td>\n",
       "      <td>46663.02</td>\n",
       "    </tr>\n",
       "    <tr>\n",
       "      <th>4</th>\n",
       "      <td>2024-09-06</td>\n",
       "      <td>47208.33</td>\n",
       "    </tr>\n",
       "    <tr>\n",
       "      <th>5</th>\n",
       "      <td>2024-09-09</td>\n",
       "      <td>46568.93</td>\n",
       "    </tr>\n",
       "    <tr>\n",
       "      <th>6</th>\n",
       "      <td>2024-09-10</td>\n",
       "      <td>46391.97</td>\n",
       "    </tr>\n",
       "    <tr>\n",
       "      <th>7</th>\n",
       "      <td>2024-09-11</td>\n",
       "      <td>46319.12</td>\n",
       "    </tr>\n",
       "    <tr>\n",
       "      <th>8</th>\n",
       "      <td>2024-09-12</td>\n",
       "      <td>47767.18</td>\n",
       "    </tr>\n",
       "    <tr>\n",
       "      <th>9</th>\n",
       "      <td>2024-09-13</td>\n",
       "      <td>48002.35</td>\n",
       "    </tr>\n",
       "    <tr>\n",
       "      <th>10</th>\n",
       "      <td>2024-09-16</td>\n",
       "      <td>48201.91</td>\n",
       "    </tr>\n",
       "    <tr>\n",
       "      <th>11</th>\n",
       "      <td>2024-09-18</td>\n",
       "      <td>47824.16</td>\n",
       "    </tr>\n",
       "    <tr>\n",
       "      <th>12</th>\n",
       "      <td>2024-09-19</td>\n",
       "      <td>48627.23</td>\n",
       "    </tr>\n",
       "    <tr>\n",
       "      <th>13</th>\n",
       "      <td>2024-09-20</td>\n",
       "      <td>48884.73</td>\n",
       "    </tr>\n",
       "    <tr>\n",
       "      <th>14</th>\n",
       "      <td>2024-09-23</td>\n",
       "      <td>49162.92</td>\n",
       "    </tr>\n",
       "    <tr>\n",
       "      <th>15</th>\n",
       "      <td>2024-09-24</td>\n",
       "      <td>49486.36</td>\n",
       "    </tr>\n",
       "    <tr>\n",
       "      <th>16</th>\n",
       "      <td>2024-09-25</td>\n",
       "      <td>50214.86</td>\n",
       "    </tr>\n",
       "    <tr>\n",
       "      <th>17</th>\n",
       "      <td>2024-09-26</td>\n",
       "      <td>50433.97</td>\n",
       "    </tr>\n",
       "    <tr>\n",
       "      <th>18</th>\n",
       "      <td>2024-09-27</td>\n",
       "      <td>50354.5</td>\n",
       "    </tr>\n",
       "    <tr>\n",
       "      <th>19</th>\n",
       "      <td>2024-09-30</td>\n",
       "      <td>49034.57</td>\n",
       "    </tr>\n",
       "  </tbody>\n",
       "</table>\n",
       "</div>"
      ],
      "text/plain": [
       "         date tri_close\n",
       "0  2024-09-02  48960.74\n",
       "1  2024-09-03  48647.56\n",
       "2  2024-09-04  46447.84\n",
       "3  2024-09-05  46663.02\n",
       "4  2024-09-06  47208.33\n",
       "5  2024-09-09  46568.93\n",
       "6  2024-09-10  46391.97\n",
       "7  2024-09-11  46319.12\n",
       "8  2024-09-12  47767.18\n",
       "9  2024-09-13  48002.35\n",
       "10 2024-09-16  48201.91\n",
       "11 2024-09-18  47824.16\n",
       "12 2024-09-19  48627.23\n",
       "13 2024-09-20  48884.73\n",
       "14 2024-09-23  49162.92\n",
       "15 2024-09-24  49486.36\n",
       "16 2024-09-25  50214.86\n",
       "17 2024-09-26  50433.97\n",
       "18 2024-09-27   50354.5\n",
       "19 2024-09-30  49034.57"
      ]
     },
     "execution_count": 2,
     "metadata": {},
     "output_type": "execute_result"
    }
   ],
   "source": [
    "df = controller.crawler_twse_total_return(\"2024/09/10\")\n",
    "df"
   ]
  },
  {
   "cell_type": "code",
   "execution_count": 5,
   "metadata": {},
   "outputs": [
    {
     "name": "stdout",
     "output_type": "stream",
     "text": [
      "爬取日期: 20240909\n"
     ]
    },
    {
     "data": {
      "text/html": [
       "<div>\n",
       "<style scoped>\n",
       "    .dataframe tbody tr th:only-of-type {\n",
       "        vertical-align: middle;\n",
       "    }\n",
       "\n",
       "    .dataframe tbody tr th {\n",
       "        vertical-align: top;\n",
       "    }\n",
       "\n",
       "    .dataframe thead th {\n",
       "        text-align: right;\n",
       "    }\n",
       "</style>\n",
       "<table border=\"1\" class=\"dataframe\">\n",
       "  <thead>\n",
       "    <tr style=\"text-align: right;\">\n",
       "      <th></th>\n",
       "      <th>date</th>\n",
       "      <th>open</th>\n",
       "      <th>high</th>\n",
       "      <th>low</th>\n",
       "      <th>close</th>\n",
       "    </tr>\n",
       "  </thead>\n",
       "  <tbody>\n",
       "    <tr>\n",
       "      <th>0</th>\n",
       "      <td>2024-09-02</td>\n",
       "      <td>22341.9</td>\n",
       "      <td>22439.31</td>\n",
       "      <td>22178.04</td>\n",
       "      <td>22235.1</td>\n",
       "    </tr>\n",
       "    <tr>\n",
       "      <th>1</th>\n",
       "      <td>2024-09-03</td>\n",
       "      <td>22240.11</td>\n",
       "      <td>22303.5</td>\n",
       "      <td>22092.21</td>\n",
       "      <td>22092.21</td>\n",
       "    </tr>\n",
       "    <tr>\n",
       "      <th>2</th>\n",
       "      <td>2024-09-04</td>\n",
       "      <td>21574.65</td>\n",
       "      <td>21574.65</td>\n",
       "      <td>20922.17</td>\n",
       "      <td>21092.75</td>\n",
       "    </tr>\n",
       "    <tr>\n",
       "      <th>3</th>\n",
       "      <td>2024-09-05</td>\n",
       "      <td>21271.09</td>\n",
       "      <td>21488.81</td>\n",
       "      <td>21150.99</td>\n",
       "      <td>21187.71</td>\n",
       "    </tr>\n",
       "    <tr>\n",
       "      <th>4</th>\n",
       "      <td>2024-09-06</td>\n",
       "      <td>21255.45</td>\n",
       "      <td>21461.71</td>\n",
       "      <td>21125.14</td>\n",
       "      <td>21435.19</td>\n",
       "    </tr>\n",
       "    <tr>\n",
       "      <th>5</th>\n",
       "      <td>2024-09-09</td>\n",
       "      <td>21127.81</td>\n",
       "      <td>21163.91</td>\n",
       "      <td>20922.51</td>\n",
       "      <td>21144.44</td>\n",
       "    </tr>\n",
       "    <tr>\n",
       "      <th>6</th>\n",
       "      <td>2024-09-10</td>\n",
       "      <td>21252.57</td>\n",
       "      <td>21324.43</td>\n",
       "      <td>20977.0</td>\n",
       "      <td>21064.08</td>\n",
       "    </tr>\n",
       "  </tbody>\n",
       "</table>\n",
       "</div>"
      ],
      "text/plain": [
       "        date      open      high       low     close\n",
       "0 2024-09-02   22341.9  22439.31  22178.04   22235.1\n",
       "1 2024-09-03  22240.11   22303.5  22092.21  22092.21\n",
       "2 2024-09-04  21574.65  21574.65  20922.17  21092.75\n",
       "3 2024-09-05  21271.09  21488.81  21150.99  21187.71\n",
       "4 2024-09-06  21255.45  21461.71  21125.14  21435.19\n",
       "5 2024-09-09  21127.81  21163.91  20922.51  21144.44\n",
       "6 2024-09-10  21252.57  21324.43   20977.0  21064.08"
      ]
     },
     "execution_count": 5,
     "metadata": {},
     "output_type": "execute_result"
    }
   ],
   "source": [
    "df2 = controller.crawler_twse_data(\"2024/09/010\")\n",
    "df2"
   ]
  },
  {
   "cell_type": "code",
   "execution_count": null,
   "metadata": {},
   "outputs": [],
   "source": []
  },
  {
   "cell_type": "code",
   "execution_count": 2,
   "metadata": {},
   "outputs": [],
   "source": [
    "url = \"https://www.twse.com.tw/fund/TWT38U\"\n",
    "date = \"20240909\"\n",
    "params = {\n",
    "    'date':f'{date}'\n",
    "}\n",
    "\n",
    "response = requests.get(url,data=params,headers=TWSE_DOWN)"
   ]
  },
  {
   "cell_type": "code",
   "execution_count": null,
   "metadata": {},
   "outputs": [],
   "source": [
    "data = json.loads(response.text)\n",
    "data"
   ]
  },
  {
   "cell_type": "code",
   "execution_count": null,
   "metadata": {},
   "outputs": [],
   "source": [
    "columns = data['fields']\n",
    "rows = data['data']\n",
    "df = pd.DataFrame(rows,columns=columns).iloc[:,:6]\n",
    "df"
   ]
  },
  {
   "cell_type": "code",
   "execution_count": null,
   "metadata": {},
   "outputs": [],
   "source": [
    "df['鉅額成交'] = 0\n",
    "df.loc[df.iloc[:,0] == '*','鉅額成交'] = 1 \n",
    "df"
   ]
  },
  {
   "cell_type": "code",
   "execution_count": null,
   "metadata": {},
   "outputs": [],
   "source": [
    "df = df.replace(',','',regex=True)\n",
    "df['date'] = date\n",
    "df['date'] = pd.to_datetime(df['date'])\n",
    "df = df[['date'] + [col for col in df.columns if col!='date']]\n",
    "df"
   ]
  },
  {
   "cell_type": "code",
   "execution_count": null,
   "metadata": {},
   "outputs": [],
   "source": []
  },
  {
   "cell_type": "code",
   "execution_count": null,
   "metadata": {},
   "outputs": [],
   "source": []
  },
  {
   "cell_type": "code",
   "execution_count": null,
   "metadata": {},
   "outputs": [],
   "source": [
    "df = controller.crawler_twse_trade_amount(\"2024/09/09\")\n",
    "df"
   ]
  },
  {
   "cell_type": "code",
   "execution_count": null,
   "metadata": {},
   "outputs": [],
   "source": [
    "url = \"https://www.twse.com.tw/rwd/fund/BFI82U\"\n",
    "date = \"20240909\"\n",
    "params = {\n",
    "    'response':'json',\n",
    "    'dayDate':f'{date}',\n",
    "    'type' : 'day'\n",
    "\n",
    "}\n",
    "response = requests.get(url,data=params,headers=TWSE_DOWN)\n",
    "response.raise_for_status()\n",
    "\n",
    "response.text"
   ]
  },
  {
   "cell_type": "code",
   "execution_count": 5,
   "metadata": {},
   "outputs": [],
   "source": [
    "data = json.loads(response.text)\n",
    "\n",
    "columns = data['fields']\n",
    "rows = data['data']\n",
    "\n",
    "df = pd.DataFrame(rows,columns = columns)"
   ]
  },
  {
   "cell_type": "code",
   "execution_count": null,
   "metadata": {},
   "outputs": [],
   "source": [
    "df.iloc[:,1:] = df.iloc[:,1:].apply(lambda x:x.str.replace(',','').astype('int64'),axis=1)\n",
    "df"
   ]
  },
  {
   "cell_type": "code",
   "execution_count": null,
   "metadata": {},
   "outputs": [],
   "source": [
    "df['date'] = \"2024/09/09\"\n",
    "df['date'] = pd.to_datetime(df['date'])\n",
    "df"
   ]
  },
  {
   "cell_type": "code",
   "execution_count": null,
   "metadata": {},
   "outputs": [],
   "source": [
    "df =df[df['單位名稱'] != \"合計\"]\n",
    "df"
   ]
  },
  {
   "cell_type": "code",
   "execution_count": null,
   "metadata": {},
   "outputs": [],
   "source": [
    "df = df[['date'] + [col for col in df.columns if col != 'date']]\n",
    "df"
   ]
  },
  {
   "cell_type": "code",
   "execution_count": null,
   "metadata": {},
   "outputs": [],
   "source": []
  }
 ],
 "metadata": {
  "kernelspec": {
   "display_name": "Python 3",
   "language": "python",
   "name": "python3"
  },
  "language_info": {
   "codemirror_mode": {
    "name": "ipython",
    "version": 3
   },
   "file_extension": ".py",
   "mimetype": "text/x-python",
   "name": "python",
   "nbconvert_exporter": "python",
   "pygments_lexer": "ipython3",
   "version": "3.11.7"
  }
 },
 "nbformat": 4,
 "nbformat_minor": 2
}
