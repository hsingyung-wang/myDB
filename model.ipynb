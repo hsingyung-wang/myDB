{
 "cells": [
  {
   "cell_type": "code",
   "execution_count": 1,
   "metadata": {},
   "outputs": [],
   "source": [
    "from pymongo import MongoClient, ASCENDING\n",
    "from pymongo.server_api import ServerApi\n",
    "from datetime import datetime\n",
    "import json\n",
    "from typing import Optional, List, Dict, Any\n",
    "import pandas as pd\n",
    "\n",
    "import urllib3\n",
    "import requests\n",
    "from bs4 import BeautifulSoup\n",
    "import pandas as pd\n",
    "from datetime import datetime\n",
    "from io import StringIO\n",
    "import json\n",
    "from headers import *\n",
    "import controllers\n",
    "import models\n",
    "import importlib\n",
    "\n",
    "importlib.reload(controllers)\n",
    "importlib.reload(models)\n",
    "controller = controllers.FuturesDataController\n",
    "model = models.FuturesDataModel()"
   ]
  },
  {
   "cell_type": "code",
   "execution_count": 2,
   "metadata": {},
   "outputs": [
    {
     "name": "stdout",
     "output_type": "stream",
     "text": [
      "成功連接到 MongoDB!\n"
     ]
    }
   ],
   "source": [
    "client = model.connect_mongo()"
   ]
  },
  {
   "cell_type": "code",
   "execution_count": 3,
   "metadata": {},
   "outputs": [],
   "source": [
    "db = client['findata']\n",
    "collection = db['twse_index']"
   ]
  },
  {
   "cell_type": "code",
   "execution_count": 4,
   "metadata": {},
   "outputs": [
    {
     "name": "stdout",
     "output_type": "stream",
     "text": [
      "爬取日期: 20240101\n"
     ]
    },
    {
     "data": {
      "text/html": [
       "<div>\n",
       "<style scoped>\n",
       "    .dataframe tbody tr th:only-of-type {\n",
       "        vertical-align: middle;\n",
       "    }\n",
       "\n",
       "    .dataframe tbody tr th {\n",
       "        vertical-align: top;\n",
       "    }\n",
       "\n",
       "    .dataframe thead th {\n",
       "        text-align: right;\n",
       "    }\n",
       "</style>\n",
       "<table border=\"1\" class=\"dataframe\">\n",
       "  <thead>\n",
       "    <tr style=\"text-align: right;\">\n",
       "      <th></th>\n",
       "      <th>date</th>\n",
       "      <th>open</th>\n",
       "      <th>high</th>\n",
       "      <th>low</th>\n",
       "      <th>close</th>\n",
       "      <th>tri_close</th>\n",
       "    </tr>\n",
       "  </thead>\n",
       "  <tbody>\n",
       "    <tr>\n",
       "      <th>0</th>\n",
       "      <td>2024-09-02</td>\n",
       "      <td>22341.9</td>\n",
       "      <td>22439.31</td>\n",
       "      <td>22178.04</td>\n",
       "      <td>22235.1</td>\n",
       "      <td>48960.74</td>\n",
       "    </tr>\n",
       "    <tr>\n",
       "      <th>1</th>\n",
       "      <td>2024-09-03</td>\n",
       "      <td>22240.11</td>\n",
       "      <td>22303.5</td>\n",
       "      <td>22092.21</td>\n",
       "      <td>22092.21</td>\n",
       "      <td>48647.56</td>\n",
       "    </tr>\n",
       "    <tr>\n",
       "      <th>2</th>\n",
       "      <td>2024-09-04</td>\n",
       "      <td>21574.65</td>\n",
       "      <td>21574.65</td>\n",
       "      <td>20922.17</td>\n",
       "      <td>21092.75</td>\n",
       "      <td>46447.84</td>\n",
       "    </tr>\n",
       "    <tr>\n",
       "      <th>3</th>\n",
       "      <td>2024-09-05</td>\n",
       "      <td>21271.09</td>\n",
       "      <td>21488.81</td>\n",
       "      <td>21150.99</td>\n",
       "      <td>21187.71</td>\n",
       "      <td>46663.02</td>\n",
       "    </tr>\n",
       "    <tr>\n",
       "      <th>4</th>\n",
       "      <td>2024-09-06</td>\n",
       "      <td>21255.45</td>\n",
       "      <td>21461.71</td>\n",
       "      <td>21125.14</td>\n",
       "      <td>21435.19</td>\n",
       "      <td>47208.33</td>\n",
       "    </tr>\n",
       "    <tr>\n",
       "      <th>5</th>\n",
       "      <td>2024-09-09</td>\n",
       "      <td>21127.81</td>\n",
       "      <td>21163.91</td>\n",
       "      <td>20922.51</td>\n",
       "      <td>21144.44</td>\n",
       "      <td>46568.93</td>\n",
       "    </tr>\n",
       "    <tr>\n",
       "      <th>6</th>\n",
       "      <td>2024-09-10</td>\n",
       "      <td>21252.57</td>\n",
       "      <td>21324.43</td>\n",
       "      <td>20977.0</td>\n",
       "      <td>21064.08</td>\n",
       "      <td>46391.97</td>\n",
       "    </tr>\n",
       "  </tbody>\n",
       "</table>\n",
       "</div>"
      ],
      "text/plain": [
       "        date      open      high       low     close tri_close\n",
       "0 2024-09-02   22341.9  22439.31  22178.04   22235.1  48960.74\n",
       "1 2024-09-03  22240.11   22303.5  22092.21  22092.21  48647.56\n",
       "2 2024-09-04  21574.65  21574.65  20922.17  21092.75  46447.84\n",
       "3 2024-09-05  21271.09  21488.81  21150.99  21187.71  46663.02\n",
       "4 2024-09-06  21255.45  21461.71  21125.14  21435.19  47208.33\n",
       "5 2024-09-09  21127.81  21163.91  20922.51  21144.44  46568.93\n",
       "6 2024-09-10  21252.57  21324.43   20977.0  21064.08  46391.97"
      ]
     },
     "execution_count": 4,
     "metadata": {},
     "output_type": "execute_result"
    }
   ],
   "source": [
    "date = \"2024/09/09\"\n",
    "df_data = controller.crawler_twse_data(date)\n",
    "df_data2 =controller.crawler_twse_total_return(date)\n",
    "\n",
    "if df_data is None or df_data.empty:\n",
    "    print(\"data1無法獲取證交所數據或數據為空\")\n",
    "if df_data2 is None or df_data2.empty:\n",
    "    print(\"data2無法獲取證交所數據或數據為空\")\n",
    "merged_df = pd.merge(df_data,df_data2,on='date',how='outer')\n",
    "merged_df"
   ]
  },
  {
   "cell_type": "code",
   "execution_count": 7,
   "metadata": {},
   "outputs": [
    {
     "name": "stdout",
     "output_type": "stream",
     "text": [
      "None\n"
     ]
    }
   ],
   "source": [
    "existing_data = collection.find_one({'date':date})\n",
    "print(existing_data)"
   ]
  },
  {
   "cell_type": "code",
   "execution_count": 8,
   "metadata": {},
   "outputs": [
    {
     "data": {
      "text/plain": [
       "[{'date': Timestamp('2024-09-02 00:00:00'),\n",
       "  'open': 22341.9,\n",
       "  'high': 22439.31,\n",
       "  'low': 22178.04,\n",
       "  'close': 22235.1,\n",
       "  'tri_close': 48960.74},\n",
       " {'date': Timestamp('2024-09-03 00:00:00'),\n",
       "  'open': 22240.11,\n",
       "  'high': 22303.5,\n",
       "  'low': 22092.21,\n",
       "  'close': 22092.21,\n",
       "  'tri_close': 48647.56},\n",
       " {'date': Timestamp('2024-09-04 00:00:00'),\n",
       "  'open': 21574.65,\n",
       "  'high': 21574.65,\n",
       "  'low': 20922.17,\n",
       "  'close': 21092.75,\n",
       "  'tri_close': 46447.84},\n",
       " {'date': Timestamp('2024-09-05 00:00:00'),\n",
       "  'open': 21271.09,\n",
       "  'high': 21488.81,\n",
       "  'low': 21150.99,\n",
       "  'close': 21187.71,\n",
       "  'tri_close': 46663.02},\n",
       " {'date': Timestamp('2024-09-06 00:00:00'),\n",
       "  'open': 21255.45,\n",
       "  'high': 21461.71,\n",
       "  'low': 21125.14,\n",
       "  'close': 21435.19,\n",
       "  'tri_close': 47208.33},\n",
       " {'date': Timestamp('2024-09-09 00:00:00'),\n",
       "  'open': 21127.81,\n",
       "  'high': 21163.91,\n",
       "  'low': 20922.51,\n",
       "  'close': 21144.44,\n",
       "  'tri_close': 46568.93},\n",
       " {'date': Timestamp('2024-09-10 00:00:00'),\n",
       "  'open': 21252.57,\n",
       "  'high': 21324.43,\n",
       "  'low': 20977.0,\n",
       "  'close': 21064.08,\n",
       "  'tri_close': 46391.97}]"
      ]
     },
     "execution_count": 8,
     "metadata": {},
     "output_type": "execute_result"
    }
   ],
   "source": [
    "data_dict = merged_df.to_dict('records')\n",
    "data_dict"
   ]
  },
  {
   "cell_type": "code",
   "execution_count": 10,
   "metadata": {},
   "outputs": [
    {
     "data": {
      "text/plain": [
       "[{'date': datetime.datetime(2024, 9, 9, 0, 0),\n",
       "  'open': 22341.9,\n",
       "  'high': 22439.31,\n",
       "  'low': 22178.04,\n",
       "  'close': 22235.1,\n",
       "  'tri_close': 48960.74},\n",
       " {'date': datetime.datetime(2024, 9, 9, 0, 0),\n",
       "  'open': 22240.11,\n",
       "  'high': 22303.5,\n",
       "  'low': 22092.21,\n",
       "  'close': 22092.21,\n",
       "  'tri_close': 48647.56},\n",
       " {'date': datetime.datetime(2024, 9, 9, 0, 0),\n",
       "  'open': 21574.65,\n",
       "  'high': 21574.65,\n",
       "  'low': 20922.17,\n",
       "  'close': 21092.75,\n",
       "  'tri_close': 46447.84},\n",
       " {'date': datetime.datetime(2024, 9, 9, 0, 0),\n",
       "  'open': 21271.09,\n",
       "  'high': 21488.81,\n",
       "  'low': 21150.99,\n",
       "  'close': 21187.71,\n",
       "  'tri_close': 46663.02},\n",
       " {'date': datetime.datetime(2024, 9, 9, 0, 0),\n",
       "  'open': 21255.45,\n",
       "  'high': 21461.71,\n",
       "  'low': 21125.14,\n",
       "  'close': 21435.19,\n",
       "  'tri_close': 47208.33},\n",
       " {'date': datetime.datetime(2024, 9, 9, 0, 0),\n",
       "  'open': 21127.81,\n",
       "  'high': 21163.91,\n",
       "  'low': 20922.51,\n",
       "  'close': 21144.44,\n",
       "  'tri_close': 46568.93},\n",
       " {'date': datetime.datetime(2024, 9, 9, 0, 0),\n",
       "  'open': 21252.57,\n",
       "  'high': 21324.43,\n",
       "  'low': 20977.0,\n",
       "  'close': 21064.08,\n",
       "  'tri_close': 46391.97}]"
      ]
     },
     "execution_count": 10,
     "metadata": {},
     "output_type": "execute_result"
    }
   ],
   "source": [
    "for record in data_dict:\n",
    "    record['date'] = datetime.strptime(date,\"%Y/%m/%d\")\n",
    "data_dict"
   ]
  },
  {
   "cell_type": "code",
   "execution_count": 11,
   "metadata": {},
   "outputs": [],
   "source": [
    "result = collection.insert_many(data_dict)"
   ]
  },
  {
   "cell_type": "code",
   "execution_count": null,
   "metadata": {},
   "outputs": [],
   "source": []
  }
 ],
 "metadata": {
  "kernelspec": {
   "display_name": "Python 3",
   "language": "python",
   "name": "python3"
  },
  "language_info": {
   "codemirror_mode": {
    "name": "ipython",
    "version": 3
   },
   "file_extension": ".py",
   "mimetype": "text/x-python",
   "name": "python",
   "nbconvert_exporter": "python",
   "pygments_lexer": "ipython3",
   "version": "3.11.7"
  }
 },
 "nbformat": 4,
 "nbformat_minor": 2
}
